{
  "nbformat": 4,
  "nbformat_minor": 0,
  "metadata": {
    "colab": {
      "provenance": [],
      "authorship_tag": "ABX9TyM8ANlRFvolMBeJcHmKoPPd",
      "include_colab_link": true
    },
    "kernelspec": {
      "name": "python3",
      "display_name": "Python 3"
    },
    "language_info": {
      "name": "python"
    }
  },
  "cells": [
    {
      "cell_type": "markdown",
      "metadata": {
        "id": "view-in-github",
        "colab_type": "text"
      },
      "source": [
        "<a href=\"https://colab.research.google.com/github/venkat26032000/Venkat263/blob/main/ICP2.ipynb\" target=\"_parent\"><img src=\"https://colab.research.google.com/assets/colab-badge.svg\" alt=\"Open In Colab\"/></a>"
      ]
    },
    {
      "cell_type": "code",
      "execution_count": 1,
      "metadata": {
        "colab": {
          "base_uri": "https://localhost:8080/"
        },
        "id": "kABRJwR2HxIi",
        "outputId": "28d85d3d-1022-4842-d966-630e969d5fe4"
      },
      "outputs": [
        {
          "output_type": "stream",
          "name": "stdout",
          "text": [
            "Enter first name: venkata\n",
            "Enter last name: neeraj\n",
            "Full Name: venkata neeraj\n"
          ]
        }
      ],
      "source": [
        "  def fullname(first_name, last_name):\n",
        "    return first_name + \" \" + last_name\n",
        "\n",
        "first_name = input(\"Enter first name: \")\n",
        "last_name = input(\"Enter last name: \")\n",
        "full_name = fullname(first_name, last_name)\n",
        "print(\"Full Name:\", full_name)"
      ]
    },
    {
      "cell_type": "code",
      "source": [
        "def string_alternative(stra):\n",
        "    return stra[::2]\n",
        "\n",
        "def main():\n",
        "    stra=input(\"Enter an input string: \")\n",
        "    alternate_chars = string_alternative(stra)\n",
        "    print(\"Alternate characters in Full Name:\", alternate_chars)\n",
        "if __name__ == \"__main__\":\n",
        "    main()"
      ],
      "metadata": {
        "colab": {
          "base_uri": "https://localhost:8080/"
        },
        "id": "MDRXscX8IeCx",
        "outputId": "96dc0d6c-9f75-4030-d268-0aef61821b32"
      },
      "execution_count": 2,
      "outputs": [
        {
          "output_type": "stream",
          "name": "stdout",
          "text": [
            "Enter an input string: neural\n",
            "Alternate characters in Full Name: nua\n"
          ]
        }
      ]
    },
    {
      "cell_type": "code",
      "source": [
        "with open('input.txt', 'w') as f:\n",
        "    f.write(\"Python Course\\n\")\n",
        "    f.write(\"Deep Learning Course\\n\")"
      ],
      "metadata": {
        "id": "4AaPdK0oIkVU"
      },
      "execution_count": 3,
      "outputs": []
    },
    {
      "cell_type": "code",
      "source": [
        "def count_words_in_file(input_file, output_file):\n",
        "    word_count = {} # Initialize word_count dictionary\n",
        "# Read input file\n",
        "    with open(input_file, 'r') as file:\n",
        "        lines = file.readlines()\n",
        "    # Process each line\n",
        "        for line in lines:\n",
        "            words = line.strip().split()\n",
        "            for word in words:\n",
        "                if word in word_count:\n",
        "                    word_count[word] += 1\n",
        "                else:\n",
        "                    word_count[word] = 1\n",
        "\n",
        "    # Write output to file\n",
        "    with open(output_file, 'w') as file:\n",
        "        # Write original lines\n",
        "        for line in lines:\n",
        "            file.write(line)\n",
        "\n",
        "        file.write(\"Word_Count:\\n\")\n",
        "        # Write word counts\n",
        "        for word, count in sorted(word_count.items()):\n",
        "            file.write(f\"{word}: {count}\\n\")\n",
        "\n",
        "    print(f\"Output has been written to {output_file}\")\n",
        "# Usage example\n",
        "input_file = \"input.txt\"\n",
        "output_file = \"output.txt\"\n",
        "count_words_in_file(input_file, output_file)"
      ],
      "metadata": {
        "colab": {
          "base_uri": "https://localhost:8080/"
        },
        "id": "VR4xIE7hIlq-",
        "outputId": "a69e60c1-6cb9-4edd-bd22-40c5bafabb4b"
      },
      "execution_count": 7,
      "outputs": [
        {
          "output_type": "stream",
          "name": "stdout",
          "text": [
            "Output has been written to output.txt\n"
          ]
        }
      ]
    },
    {
      "cell_type": "code",
      "source": [
        "with open('output.txt', 'r') as f:\n",
        "    content = f.read()\n",
        "\n",
        "print(\"Content of input.txt:\")\n",
        "print(content)"
      ],
      "metadata": {
        "colab": {
          "base_uri": "https://localhost:8080/"
        },
        "id": "R5mOJTumImG9",
        "outputId": "ae24b4de-41a7-447c-a5ac-0784ad001642"
      },
      "execution_count": 8,
      "outputs": [
        {
          "output_type": "stream",
          "name": "stdout",
          "text": [
            "Content of input.txt:\n",
            "Python Course\n",
            "Deep Learning Course\n",
            "Word_Count:\n",
            "Course: 2\n",
            "Deep: 1\n",
            "Learning: 1\n",
            "Python: 1\n",
            "\n"
          ]
        }
      ]
    },
    {
      "cell_type": "code",
      "source": [
        "def convert_heights_nested(heights_inches):\n",
        "    heights_cm = []\n",
        "    for inch in heights_inches:\n",
        "        cm = inch * 2.54\n",
        "        heights_cm.append(round(cm, 2))\n",
        "    return heights_cm\n",
        "\n",
        "def main_nested():\n",
        "    num_customers = int(input(\"Enter the number of customers: \"))\n",
        "    heights_inches = []\n",
        "    for i in range(num_customers):\n",
        "        height_inch = float(input(f\"Enter height in inches for customer {i+1}: \"))\n",
        "        heights_inches.append(height_inch)\n",
        "    heights_cm = convert_heights_nested(heights_inches)\n",
        "    print(\"Heights in Inches:\", heights_inches)\n",
        "    print(\"Heights in Centimeters:\", heights_cm)\n",
        "\n",
        "if __name__ == \"__main__\":\n",
        "    main_nested()"
      ],
      "metadata": {
        "colab": {
          "base_uri": "https://localhost:8080/"
        },
        "id": "nu6Mhx_9ImXC",
        "outputId": "a5144bfe-07a8-4713-83b3-241bb70eca66"
      },
      "execution_count": 9,
      "outputs": [
        {
          "output_type": "stream",
          "name": "stdout",
          "text": [
            "Enter the number of customers: 3\n",
            "Enter height in inches for customer 1: 5.5\n",
            "Enter height in inches for customer 2: 6.5\n",
            "Enter height in inches for customer 3: 8.5\n",
            "Heights in Inches: [5.5, 6.5, 8.5]\n",
            "Heights in Centimeters: [13.97, 16.51, 21.59]\n"
          ]
        }
      ]
    },
    {
      "cell_type": "code",
      "source": [
        "def convert_heights_comprehension(heights_inches):\n",
        "    return [round(inch * 2.54, 2) for inch in heights_inches]\n",
        "\n",
        "def main_comprehension():\n",
        "    num_customers = int(input(\"Enter the number of customers: \"))\n",
        "    heights_inches = [float(input(f\"Enter height in inches for customer {i+1}: \")) for i in range(num_customers)]\n",
        "    heights_cm = convert_heights_comprehension(heights_inches)\n",
        "    print(\"Heights in Inches:\", heights_inches)\n",
        "    print(\"Heights in Centi:\", heights_cm)\n",
        "\n",
        "if __name__ == \"__main__\":\n",
        "    main_comprehension()"
      ],
      "metadata": {
        "colab": {
          "base_uri": "https://localhost:8080/"
        },
        "id": "aZle2xbRJOtz",
        "outputId": "407505e5-9669-4287-f58a-58e40e4d686e"
      },
      "execution_count": 10,
      "outputs": [
        {
          "output_type": "stream",
          "name": "stdout",
          "text": [
            "Enter the number of customers: 2\n",
            "Enter height in inches for customer 1: 25\n",
            "Enter height in inches for customer 2: 35\n",
            "Heights in Inches: [25.0, 35.0]\n",
            "Heights in Centi: [63.5, 88.9]\n"
          ]
        }
      ]
    }
  ]
}