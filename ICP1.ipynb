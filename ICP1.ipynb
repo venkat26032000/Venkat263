{
  "nbformat": 4,
  "nbformat_minor": 0,
  "metadata": {
    "colab": {
      "provenance": [],
      "authorship_tag": "ABX9TyMPpvYOStGxFdrTtn6A/FGv",
      "include_colab_link": true
    },
    "kernelspec": {
      "name": "python3",
      "display_name": "Python 3"
    },
    "language_info": {
      "name": "python"
    }
  },
  "cells": [
    {
      "cell_type": "markdown",
      "metadata": {
        "id": "view-in-github",
        "colab_type": "text"
      },
      "source": [
        "<a href=\"https://colab.research.google.com/github/venkat26032000/Venkat263/blob/main/ICP1.ipynb\" target=\"_parent\"><img src=\"https://colab.research.google.com/assets/colab-badge.svg\" alt=\"Open In Colab\"/></a>"
      ]
    },
    {
      "cell_type": "code",
      "execution_count": 1,
      "metadata": {
        "colab": {
          "base_uri": "https://localhost:8080/"
        },
        "id": "legchT0VG-zQ",
        "outputId": "50e53de1-cec9-41ec-c0fd-0ec96f0890b6"
      },
      "outputs": [
        {
          "output_type": "stream",
          "name": "stdout",
          "text": [
            "Read an input string: python\n",
            "ntyp\n"
          ]
        }
      ],
      "source": [
        "string = input(\"Read an input string: \")\n",
        "for i in range(2):\n",
        "    string = string.replace(string[-2], \"\")\n",
        "print(string[::-1])\n",
        ""
      ]
    },
    {
      "cell_type": "code",
      "source": [
        "One = float(input(\":\"))\n",
        "Two =float(input(\":\"))\n",
        "print( One + Two)\n",
        "print( One / Two)\n",
        "print( One * Two)\n",
        "print( One - Two)"
      ],
      "metadata": {
        "colab": {
          "base_uri": "https://localhost:8080/"
        },
        "id": "oUwU_apIHJya",
        "outputId": "8ab93d99-a603-4d84-b876-22e73788c298"
      },
      "execution_count": 6,
      "outputs": [
        {
          "output_type": "stream",
          "name": "stdout",
          "text": [
            ":1\n",
            ":2\n",
            "3.0\n",
            "0.5\n",
            "2.0\n",
            "-1.0\n"
          ]
        }
      ]
    },
    {
      "cell_type": "code",
      "source": [
        "String = input(\"enter : \")\n",
        "String = String.replace(\"apples\", \"apple\")\n",
        "print(String)\n"
      ],
      "metadata": {
        "colab": {
          "base_uri": "https://localhost:8080/"
        },
        "id": "nBzCulqPHKGq",
        "outputId": "350953aa-b0f7-41e0-cb68-623a5ccab1d3"
      },
      "execution_count": 5,
      "outputs": [
        {
          "output_type": "stream",
          "name": "stdout",
          "text": [
            "enter : apples\n",
            "apple\n"
          ]
        }
      ]
    },
    {
      "cell_type": "code",
      "source": [
        "marks = int(input (\"enter marks:\"))\n",
        "if marks > 90:\n",
        "  print(\"A\")\n",
        "elif marks > 80:\n",
        "  print(\"B\")\n",
        "elif marks > 70:\n",
        "  print(\"C\")\n",
        "elif marks > 60:\n",
        "  print(\"D\")"
      ],
      "metadata": {
        "colab": {
          "base_uri": "https://localhost:8080/"
        },
        "id": "As8w4il9HKTL",
        "outputId": "00e4e566-88cb-4827-8527-2aff793e1394"
      },
      "execution_count": 2,
      "outputs": [
        {
          "output_type": "stream",
          "name": "stdout",
          "text": [
            "enter marks:100\n",
            "A\n"
          ]
        }
      ]
    }
  ]
}